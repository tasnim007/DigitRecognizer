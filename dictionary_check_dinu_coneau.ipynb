{
 "cells": [
  {
   "cell_type": "code",
   "execution_count": 35,
   "metadata": {},
   "outputs": [],
   "source": [
    "import numpy as np\n",
    "import collections\n",
    "from collections import OrderedDict\n",
    "import os"
   ]
  },
  {
   "cell_type": "code",
   "execution_count": 45,
   "metadata": {},
   "outputs": [],
   "source": [
    "def read_dict(dictionary): \n",
    "    f = open(dictionary, encoding='utf-8', errors='surrogateescape')\n",
    "    src2trg = collections.defaultdict(set)\n",
    "    src_list = []\n",
    "    tgt_list = []\n",
    "    for line in f:\n",
    "        src, tgt = line.split()\n",
    "        src_list.append(src)\n",
    "        tgt_list.append(tgt)\n",
    "    return src_list, tgt_list\n",
    "\n",
    "def common_words(con, dinu):\n",
    "    count=0\n",
    "    common = []\n",
    "    for i in range(len(con)):\n",
    "        for j in range(len(dinu)):\n",
    "            if con[i]==dinu[j]:\n",
    "                count +=1\n",
    "                common.append(con[i])\n",
    "    print(\"Similar #words: \", count)\n",
    "    print(\"Similar #Unique words: \", len(set(common)))\n",
    "    \n",
    "\n",
    "def summary_stats(src_lang, tgt_lang):\n",
    "    dictionary_con = os.path.join('./', '%s-%s.5000-6500.txt' % (src_lang, tgt_lang))\n",
    "    con_src, con_tgt = read_dict(dictionary_con)\n",
    "    dictionary_dinu = os.path.join('./vecmap/', '%s-%s.5000-6500.txt' % (src_lang, tgt_lang))\n",
    "    dinu_src, dinu_tgt = read_dict(dictionary_dinu)\n",
    "    \n",
    "    \n",
    "    print(src_lang, \" words in Conneau: \", len(con_src))\n",
    "    print(src_lang, \" words in Dinu:    \", len(dinu_src))\n",
    "    print(tgt_lang, \" words in Conneau: \", len(con_tgt))\n",
    "    print(tgt_lang, \" words in Dinu:    \", len(dinu_tgt))\n",
    "    print(\"\\n********Unique***********\\n\")\n",
    "    print(\"Unique \", src_lang, \" words in Conneau: \", len(set(con_src)))\n",
    "    print(\"Unique \", src_lang, \" words in Dinu:    \", len(set(dinu_src)))\n",
    "    print(\"Unique \", tgt_lang, \" words in Conneau: \", len(set(con_tgt)))\n",
    "    print(\"Unique \", tgt_lang, \" words in Dinu:    \", len(set(dinu_tgt)))\n",
    "    print(\"\\n********Similarity***********\\n\")\n",
    "    print(\"in \", src_lang, \": \")\n",
    "    common_words(con_src, dinu_src)\n",
    "    print(\"in \", tgt_lang, \": \") \n",
    "    common_words(con_tgt, dinu_tgt)"
   ]
  },
  {
   "cell_type": "code",
   "execution_count": 50,
   "metadata": {},
   "outputs": [
    {
     "name": "stdout",
     "output_type": "stream",
     "text": [
      "Comparing En to Es GOLD test dictionary\n",
      "\n",
      "\n",
      "en  words in Conneau:  2975\n",
      "en  words in Dinu:     1914\n",
      "es  words in Conneau:  2975\n",
      "es  words in Dinu:     1914\n",
      "\n",
      "********Unique***********\n",
      "\n",
      "Unique  en  words in Conneau:  1500\n",
      "Unique  en  words in Dinu:     1500\n",
      "Unique  es  words in Conneau:  2869\n",
      "Unique  es  words in Dinu:     1897\n",
      "\n",
      "********Similarity***********\n",
      "\n",
      "in  en : \n",
      "Similar #words:  167\n",
      "Similar #Unique words:  56\n",
      "in  es : \n",
      "Similar #words:  121\n",
      "Similar #Unique words:  114\n"
     ]
    }
   ],
   "source": [
    "print(\"Comparing En to Es GOLD test dictionary\\n\\n\")\n",
    "summary_stats(\"en\", \"es\")"
   ]
  },
  {
   "cell_type": "code",
   "execution_count": 51,
   "metadata": {},
   "outputs": [
    {
     "name": "stdout",
     "output_type": "stream",
     "text": [
      "Comparing Es to En GOLD test dictionary\n",
      "\n",
      "\n",
      "es  words in Conneau:  2416\n",
      "es  words in Dinu:     1914\n",
      "en  words in Conneau:  2416\n",
      "en  words in Dinu:     1914\n",
      "\n",
      "********Unique***********\n",
      "\n",
      "Unique  es  words in Conneau:  1500\n",
      "Unique  es  words in Dinu:     1897\n",
      "Unique  en  words in Conneau:  2302\n",
      "Unique  en  words in Dinu:     1500\n",
      "\n",
      "********Similarity***********\n",
      "\n",
      "in  es : \n",
      "Similar #words:  102\n",
      "Similar #Unique words:  59\n",
      "in  en : \n",
      "Similar #words:  146\n",
      "Similar #Unique words:  84\n"
     ]
    }
   ],
   "source": [
    "print(\"Comparing Es to En GOLD test dictionary\\n\\n\")\n",
    "summary_stats(\"es\", \"en\")"
   ]
  },
  {
   "cell_type": "code",
   "execution_count": 52,
   "metadata": {},
   "outputs": [
    {
     "name": "stdout",
     "output_type": "stream",
     "text": [
      "Comparing En to It GOLD test dictionary\n",
      "\n",
      "\n",
      "en  words in Conneau:  2585\n",
      "en  words in Dinu:     1869\n",
      "it  words in Conneau:  2585\n",
      "it  words in Dinu:     1869\n",
      "\n",
      "********Unique***********\n",
      "\n",
      "Unique  en  words in Conneau:  1500\n",
      "Unique  en  words in Dinu:     1500\n",
      "Unique  it  words in Conneau:  2532\n",
      "Unique  it  words in Dinu:     1849\n",
      "\n",
      "********Similarity***********\n",
      "\n",
      "in  en : \n",
      "Similar #words:  114\n",
      "Similar #Unique words:  46\n",
      "in  it : \n",
      "Similar #words:  98\n",
      "Similar #Unique words:  94\n"
     ]
    }
   ],
   "source": [
    "print(\"Comparing En to It GOLD test dictionary\\n\\n\")\n",
    "summary_stats(\"en\", \"it\")"
   ]
  },
  {
   "cell_type": "code",
   "execution_count": 53,
   "metadata": {},
   "outputs": [
    {
     "name": "stdout",
     "output_type": "stream",
     "text": [
      "Comparing It to En GOLD test dictionary\n",
      "\n",
      "\n",
      "it  words in Conneau:  2102\n",
      "it  words in Dinu:     1869\n",
      "en  words in Conneau:  2102\n",
      "en  words in Dinu:     1869\n",
      "\n",
      "********Unique***********\n",
      "\n",
      "Unique  it  words in Conneau:  1500\n",
      "Unique  it  words in Dinu:     1849\n",
      "Unique  en  words in Conneau:  2005\n",
      "Unique  en  words in Dinu:     1500\n",
      "\n",
      "********Similarity***********\n",
      "\n",
      "in  it : \n",
      "Similar #words:  103\n",
      "Similar #Unique words:  60\n",
      "in  en : \n",
      "Similar #words:  124\n",
      "Similar #Unique words:  74\n"
     ]
    }
   ],
   "source": [
    "print(\"Comparing It to En GOLD test dictionary\\n\\n\")\n",
    "summary_stats(\"it\", \"en\")"
   ]
  },
  {
   "cell_type": "code",
   "execution_count": null,
   "metadata": {},
   "outputs": [],
   "source": []
  },
  {
   "cell_type": "code",
   "execution_count": null,
   "metadata": {},
   "outputs": [],
   "source": []
  }
 ],
 "metadata": {
  "kernelspec": {
   "display_name": "Python 3",
   "language": "python",
   "name": "python3"
  },
  "language_info": {
   "codemirror_mode": {
    "name": "ipython",
    "version": 3
   },
   "file_extension": ".py",
   "mimetype": "text/x-python",
   "name": "python",
   "nbconvert_exporter": "python",
   "pygments_lexer": "ipython3",
   "version": "3.6.8"
  }
 },
 "nbformat": 4,
 "nbformat_minor": 2
}
